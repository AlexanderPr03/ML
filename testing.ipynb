{
  "nbformat": 4,
  "nbformat_minor": 0,
  "metadata": {
    "colab": {
      "provenance": [],
      "authorship_tag": "ABX9TyMHJR6rgrQP90r+zBLQdm2I",
      "include_colab_link": true
    },
    "kernelspec": {
      "name": "python3",
      "display_name": "Python 3"
    },
    "language_info": {
      "name": "python"
    }
  },
  "cells": [
    {
      "cell_type": "markdown",
      "metadata": {
        "id": "view-in-github",
        "colab_type": "text"
      },
      "source": [
        "<a href=\"https://colab.research.google.com/github/AlexanderPr03/ML/blob/main/testing.ipynb\" target=\"_parent\"><img src=\"https://colab.research.google.com/assets/colab-badge.svg\" alt=\"Open In Colab\"/></a>"
      ]
    },
    {
      "cell_type": "code",
      "execution_count": null,
      "metadata": {
        "id": "k7KBAgbK33Cp"
      },
      "outputs": [],
      "source": [
        "import pandas as pd\n",
        "import numpy as np\n",
        "import matplotlib.pyplot as plt\n",
        "import seaborn as sns\n",
        "from sklearn.preprocessing import LabelEncoder\n",
        "from sklearn.impute import SimpleImputer, KNNImputer, IterativeImputer\n",
        "from sklearn.feature_selection import RFE\n",
        "from sklearn.ensemble import RandomForestRegressor\n",
        "from sklearn.model_selection import train_test_split\n",
        "from sklearn.linear_model import LinearRegression\n",
        "from sklearn import svm\n",
        "from sklearn.preprocessing import StandardScaler\n",
        "from sklearn.preprocessing import MinMaxScaler\n",
        "from sklearn.metrics import mean_absolute_error\n",
        "from sklearn.metrics import mean_squared_error\n",
        "from sklearn.metrics import r2_score\n",
        "from sklearn.model_selection import cross_val_score\n",
        "from sklearn.ensemble import IsolationForest\n",
        "from sklearn.covariance import EllipticEnvelope\n",
        "from sklearn.neighbors import LocalOutlierFactor\n",
        "from sklearn.decomposition import PCA\n",
        "from sklearn.pipeline import make_pipeline\n",
        "from sklearn.model_selection import RandomizedSearchCV"
      ]
    },
    {
      "cell_type": "code",
      "source": [
        "df = pd.read_csv('your_file.csv')"
      ],
      "metadata": {
        "id": "pIRNClmx6YOK"
      },
      "execution_count": null,
      "outputs": []
    },
    {
      "cell_type": "code",
      "source": [
        "df.info()\n",
        "df.head()\n",
        "df.describe()"
      ],
      "metadata": {
        "id": "Hgvwk-ZO6P2W"
      },
      "execution_count": null,
      "outputs": []
    },
    {
      "cell_type": "code",
      "source": [
        "df['baseRent'].hist(bins=50)\n",
        "df.boxplot(column=['baseRent'])"
      ],
      "metadata": {
        "id": "IUaDcdRy62Qt"
      },
      "execution_count": null,
      "outputs": []
    },
    {
      "cell_type": "code",
      "source": [
        "df.duplicated().sum()"
      ],
      "metadata": {
        "id": "gIdVlqA563q6"
      },
      "execution_count": null,
      "outputs": []
    },
    {
      "cell_type": "code",
      "source": [
        "df.hist(bins=50, figsize=(20,15))\n",
        "plt.show()\n",
        "df.boxplot(column=['baseRent'])\n",
        "df.plot(kind='scatter', x='livingSpace', y='baseRent', alpha=0.5)"
      ],
      "metadata": {
        "id": "eWfQYytv8l1e"
      },
      "execution_count": null,
      "outputs": []
    },
    {
      "cell_type": "code",
      "source": [
        "corr = df.corr()\n",
        "plt.figure(figsize=(12, 10))\n",
        "sns.heatmap(corr, annot=True, cmap='coolwarm')\n",
        "plt.show()"
      ],
      "metadata": {
        "id": "K6Kh5SaJ8tvL"
      },
      "execution_count": null,
      "outputs": []
    },
    {
      "cell_type": "code",
      "source": [
        "df.duplicated().sum()"
      ],
      "metadata": {
        "id": "lnGOTnKR9gtb"
      },
      "execution_count": null,
      "outputs": []
    },
    {
      "cell_type": "code",
      "source": [
        "le = LabelEncoder()\n",
        "\n",
        "for col in df.columns:\n",
        "    if df[col].dtype == 'object':\n",
        "        if df[col].isnull().sum() > 0:\n",
        "            df[col] = df[col].fillna('Absent')\n",
        "        df[col] = le.fit_transform(df[col])"
      ],
      "metadata": {
        "colab": {
          "base_uri": "https://localhost:8080/",
          "height": 244
        },
        "id": "kTC_x-sK-Snw",
        "outputId": "0b96c051-2b15-45c3-b365-5cd475762816"
      },
      "execution_count": null,
      "outputs": [
        {
          "output_type": "error",
          "ename": "NameError",
          "evalue": "ignored",
          "traceback": [
            "\u001b[0;31m---------------------------------------------------------------------------\u001b[0m",
            "\u001b[0;31mNameError\u001b[0m                                 Traceback (most recent call last)",
            "\u001b[0;32m<ipython-input-1-a9ac8956e09a>\u001b[0m in \u001b[0;36m<cell line: 1>\u001b[0;34m()\u001b[0m\n\u001b[0;32m----> 1\u001b[0;31m \u001b[0mle\u001b[0m \u001b[0;34m=\u001b[0m \u001b[0mLabelEncoder\u001b[0m\u001b[0;34m(\u001b[0m\u001b[0;34m)\u001b[0m\u001b[0;34m\u001b[0m\u001b[0;34m\u001b[0m\u001b[0m\n\u001b[0m\u001b[1;32m      2\u001b[0m \u001b[0;34m\u001b[0m\u001b[0m\n\u001b[1;32m      3\u001b[0m \u001b[0;32mfor\u001b[0m \u001b[0mcol\u001b[0m \u001b[0;32min\u001b[0m \u001b[0mdf\u001b[0m\u001b[0;34m.\u001b[0m\u001b[0mcolumns\u001b[0m\u001b[0;34m:\u001b[0m\u001b[0;34m\u001b[0m\u001b[0;34m\u001b[0m\u001b[0m\n\u001b[1;32m      4\u001b[0m     \u001b[0;32mif\u001b[0m \u001b[0mdf\u001b[0m\u001b[0;34m[\u001b[0m\u001b[0mcol\u001b[0m\u001b[0;34m]\u001b[0m\u001b[0;34m.\u001b[0m\u001b[0mdtype\u001b[0m \u001b[0;34m==\u001b[0m \u001b[0;34m'object'\u001b[0m\u001b[0;34m:\u001b[0m\u001b[0;34m\u001b[0m\u001b[0;34m\u001b[0m\u001b[0m\n\u001b[1;32m      5\u001b[0m         \u001b[0;32mif\u001b[0m \u001b[0mdf\u001b[0m\u001b[0;34m[\u001b[0m\u001b[0mcol\u001b[0m\u001b[0;34m]\u001b[0m\u001b[0;34m.\u001b[0m\u001b[0misnull\u001b[0m\u001b[0;34m(\u001b[0m\u001b[0;34m)\u001b[0m\u001b[0;34m.\u001b[0m\u001b[0msum\u001b[0m\u001b[0;34m(\u001b[0m\u001b[0;34m)\u001b[0m \u001b[0;34m>\u001b[0m \u001b[0;36m0\u001b[0m\u001b[0;34m:\u001b[0m\u001b[0;34m\u001b[0m\u001b[0;34m\u001b[0m\u001b[0m\n",
            "\u001b[0;31mNameError\u001b[0m: name 'LabelEncoder' is not defined"
          ]
        }
      ]
    },
    {
      "cell_type": "code",
      "source": [
        "numerical_cols = df.select_dtypes(include=np.number).columns.tolist()\n",
        "numerical_cols.remove('baseRent')\n",
        "\n",
        "# Isolation Forest\n",
        "iso = IsolationForest(contamination=0.1)\n",
        "outliers_iso = iso.fit_predict(df[numerical_cols])\n",
        "# df['outliers_iso'] = outliers_iso\n",
        "print(\"Nr Outliers cu Isolation Forest: \", list(outliers_iso).count(-1))\n",
        "\n",
        "# Elliptic Envelope\n",
        "ee = EllipticEnvelope(contamination=0.1)\n",
        "outliers_ee = ee.fit_predict(df[numerical_cols])\n",
        "# df['outliers_ee'] = outliers_ee\n",
        "print(\"Nr Outliers cu Elliptic Envelope: \", list(outliers_ee).count(-1))\n",
        "\n",
        "\n",
        "# Local Outlier Factor\n",
        "lof = LocalOutlierFactor()\n",
        "outliers_lof = lof.fit_predict(df[numerical_cols])\n",
        "# df['outliers_lof'] = outliers_lof\n",
        "print(\"Nr. Outliers cu Local Outlier Factor: \", list(outliers_lof).count(-1))\n",
        "\n",
        "\n",
        "# 4. Box plot pentru fiecare valoare numerica\n",
        "for col in numerical_cols:\n",
        "    plt.figure(figsize=(10, 5))\n",
        "    sns.boxplot(x=df[col])\n",
        "    plt.title(f'Box plot pentru {col}')\n",
        "    plt.show()"
      ],
      "metadata": {
        "id": "oK7EQ16FLexX"
      },
      "execution_count": null,
      "outputs": []
    },
    {
      "cell_type": "code",
      "source": [
        "models = {\n",
        "    'RandomForest': RandomForestRegressor(),\n",
        "    'Linear Regression': LinearRegression(),\n",
        "    'SVC': SVR()\n",
        "}\n",
        "\n",
        "df_simple = df.copy()\n",
        "df_knn = df.copy()\n",
        "df_mice = df.copy()\n",
        "\n",
        "imputer = SimpleImputer(strategy='mean')\n",
        "df_simple_imputed = pd.DataFrame(imputer.fit_transform(df_simple))\n",
        "df_simple_imputed.columns = df_simple.columns\n",
        "df_simple_imputed.index = df_simple.index\n",
        "\n",
        "imputer = KNNImputer(n_neighbors=5)\n",
        "df_knn_imputed = pd.DataFrame(imputer.fit_transform(df_knn))\n",
        "df_knn_imputed.columns = df_knn.columns\n",
        "df_knn_imputed.index = df_knn.index\n",
        "\n",
        "imputer = IterativeImputer(random_state=0)\n",
        "df_mice_imputed = pd.DataFrame(imputer.fit_transform(df_mice))\n",
        "df_mice_imputed.columns = df_mice.columns\n",
        "df_mice_imputed.index = df_mice.index"
      ],
      "metadata": {
        "id": "mu-lZCeC-aIV"
      },
      "execution_count": null,
      "outputs": []
    },
    {
      "cell_type": "code",
      "source": [
        "for model_name, model in models.items():\n",
        "    print(f'\\nModel: {model_name}\\n')\n",
        "\n",
        "    if model_name == 'SVC':\n",
        "        scaler = StandardScaler()\n",
        "        df_simple['baseRent'] = scaler.fit_transform(df_simple[['baseRent']])\n",
        "        df_knn['baseRent'] = scaler.fit_transform(df_knn[['baseRent']])\n",
        "        df_mice['baseRent'] = scaler.fit_transform(df_mice[['baseRent']])\n",
        "\n",
        "    #SimpleImputer\n",
        "    scores_simple = cross_val_score(model, df_simple_imputed.drop('baseRent', axis=1), df_simple_imputed['baseRent'], scoring='neg_mean_squared_error')\n",
        "    simple_imputer_score = np.sqrt(-scores_simple.mean())\n",
        "    print('Simple Imputer Scor:', simple_imputer_score)\n",
        "\n",
        "    # KNNImputer\n",
        "    scores_knn = cross_val_score(model, df_knn_imputed.drop('baseRent', axis=1), df_knn_imputed['baseRent'], scoring='neg_mean_squared_error')\n",
        "    knn_imputer_score = np.sqrt(-scores_knn.mean())\n",
        "    print('KNN Imputer Scor:', knn_imputer_score)\n",
        "\n",
        "    #IterativeImputer\n",
        "    scores_mice = cross_val_score(model, df_mice_imputed.drop('baseRent', axis=1), df_mice_imputed['baseRent'], scoring='neg_mean_squared_error')\n",
        "    mice_imputer_score = np.sqrt(-scores_mice.mean())\n",
        "    print('MICE Imputer Scor:', mice_imputer_score)"
      ],
      "metadata": {
        "colab": {
          "base_uri": "https://localhost:8080/",
          "height": 244
        },
        "id": "zbjdDg0FIL6S",
        "outputId": "a8b345ad-58a3-486d-f3c4-1254c83162fc"
      },
      "execution_count": null,
      "outputs": [
        {
          "output_type": "error",
          "ename": "NameError",
          "evalue": "ignored",
          "traceback": [
            "\u001b[0;31m---------------------------------------------------------------------------\u001b[0m",
            "\u001b[0;31mNameError\u001b[0m                                 Traceback (most recent call last)",
            "\u001b[0;32m<ipython-input-2-5ccc834e0a76>\u001b[0m in \u001b[0;36m<cell line: 1>\u001b[0;34m()\u001b[0m\n\u001b[0;32m----> 1\u001b[0;31m \u001b[0;32mfor\u001b[0m \u001b[0mmodel_name\u001b[0m\u001b[0;34m,\u001b[0m \u001b[0mmodel\u001b[0m \u001b[0;32min\u001b[0m \u001b[0mmodels\u001b[0m\u001b[0;34m.\u001b[0m\u001b[0mitems\u001b[0m\u001b[0;34m(\u001b[0m\u001b[0;34m)\u001b[0m\u001b[0;34m:\u001b[0m\u001b[0;34m\u001b[0m\u001b[0;34m\u001b[0m\u001b[0m\n\u001b[0m\u001b[1;32m      2\u001b[0m     \u001b[0mprint\u001b[0m\u001b[0;34m(\u001b[0m\u001b[0;34mf'\\nModel: {model_name}\\n'\u001b[0m\u001b[0;34m)\u001b[0m\u001b[0;34m\u001b[0m\u001b[0;34m\u001b[0m\u001b[0m\n\u001b[1;32m      3\u001b[0m \u001b[0;34m\u001b[0m\u001b[0m\n\u001b[1;32m      4\u001b[0m     \u001b[0;32mif\u001b[0m \u001b[0mmodel_name\u001b[0m \u001b[0;34m==\u001b[0m \u001b[0;34m'SVC'\u001b[0m\u001b[0;34m:\u001b[0m\u001b[0;34m\u001b[0m\u001b[0;34m\u001b[0m\u001b[0m\n\u001b[1;32m      5\u001b[0m         \u001b[0mscaler\u001b[0m \u001b[0;34m=\u001b[0m \u001b[0mStandardScaler\u001b[0m\u001b[0;34m(\u001b[0m\u001b[0;34m)\u001b[0m\u001b[0;34m\u001b[0m\u001b[0;34m\u001b[0m\u001b[0m\n",
            "\u001b[0;31mNameError\u001b[0m: name 'models' is not defined"
          ]
        }
      ]
    },
    {
      "cell_type": "code",
      "source": [
        "X = df.drop('baseRent', axis=1)\n",
        "y = df['baseRent']\n",
        "\n",
        "X_train, X_test, y_train, y_test = train_test_split(X, y, test_size=0.2, random_state=42)"
      ],
      "metadata": {
        "id": "jW6KRA1gPPyu"
      },
      "execution_count": null,
      "outputs": []
    },
    {
      "cell_type": "code",
      "source": [
        "scaler = StandardScaler()\n",
        "X_scaled = scaler.fit_transform(X_train)\n",
        "\n",
        "model = RandomForestRegressor()\n",
        "\n",
        "results = []\n",
        "\n",
        "for i in range(1, X.shape[1]+1):\n",
        "    pca = PCA(n_components=i)\n",
        "    pipeline = make_pipeline(pca, model)\n",
        "\n",
        "    scores = cross_val_score(pipeline, X_scaled, y, cv=5, scoring='neg_mean_squared_error')\n",
        "    rmse_score = np.sqrt(-scores.mean())\n",
        "\n",
        "    results.append({\n",
        "        'n_componente': i,\n",
        "        'RMSE': rmse_score,\n",
        "    })\n",
        "\n",
        "results_df = pd.DataFrame(results)\n",
        "print(results_df)"
      ],
      "metadata": {
        "id": "U_PAmfXJPhJ0"
      },
      "execution_count": null,
      "outputs": []
    },
    {
      "cell_type": "code",
      "source": [
        "from sklearn.model_selection import RandomizedSearchCV\n",
        "from sklearn.ensemble import RandomForestRegressor\n",
        "\n",
        "rf = RandomForestRegressor()\n",
        "\n",
        "param_grid = {\n",
        "    'n_estimators': [int(x) for x in np.linspace(start = 1, stop = 10, num = 1)],\n",
        "    'max_features': ['auto', 'sqrt'],\n",
        "    'max_depth': [int(x) for x in np.linspace(10, 110, num = 11)] + [None],\n",
        "    'min_samples_split': [2, 5, 10],\n",
        "    'min_samples_leaf': [1, 2, 4],\n",
        "    'bootstrap': [True, False]\n",
        "}\n",
        "rf_random = RandomizedSearchCV(estimator = rf, param_distributions = param_grid, n_iter = 100, cv = 3, verbose=2, random_state=42, n_jobs = -1)\n",
        "rf_random.fit(X_train, y_train)\n",
        "\n",
        "# You can get the best parameters like this\n",
        "best_params = rf_random.best_params_\n",
        "print(best_params)"
      ],
      "metadata": {
        "id": "ymaDHvomThE5"
      },
      "execution_count": null,
      "outputs": []
    }
  ]
}