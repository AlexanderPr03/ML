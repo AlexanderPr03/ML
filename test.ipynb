{
  "nbformat": 4,
  "nbformat_minor": 0,
  "metadata": {
    "colab": {
      "provenance": [],
      "authorship_tag": "ABX9TyMFpRXKSVWadGuLh/3zf0OJ",
      "include_colab_link": true
    },
    "kernelspec": {
      "name": "python3",
      "display_name": "Python 3"
    },
    "language_info": {
      "name": "python"
    }
  },
  "cells": [
    {
      "cell_type": "markdown",
      "metadata": {
        "id": "view-in-github",
        "colab_type": "text"
      },
      "source": [
        "<a href=\"https://colab.research.google.com/github/AlexanderPr03/ML/blob/main/test.ipynb\" target=\"_parent\"><img src=\"https://colab.research.google.com/assets/colab-badge.svg\" alt=\"Open In Colab\"/></a>"
      ]
    },
    {
      "cell_type": "markdown",
      "source": [
        "Codul de mai jos este utilizat pentru a filtra și selecta datele din fișierul immo_data.csv, iar mai apoi aceste date sunt utilizate pentru a antrena un model cu Random Forest Regression."
      ],
      "metadata": {
        "id": "eamBWorcgK4V"
      }
    },
    {
      "cell_type": "code",
      "execution_count": null,
      "metadata": {
        "id": "o4KqLn2iSVO3"
      },
      "outputs": [],
      "source": [
        "# Importurile utilizate\n",
        "import pandas as pd\n",
        "import numpy as np\n",
        "from sklearn.preprocessing import StandardScaler\n",
        "from sklearn.model_selection import train_test_split\n",
        "from sklearn.ensemble import RandomForestRegressor\n",
        "from sklearn.metrics import mean_squared_error, mean_absolute_error, r2_score\n",
        "from sklearn.preprocessing import LabelEncoder\n",
        "import matplotlib.pyplot as plt\n",
        "import seaborn as sns\n",
        "from scipy import stats"
      ]
    },
    {
      "cell_type": "code",
      "source": [
        "# Citim fișierul\n",
        "df = pd.read_csv('immo_data.csv')"
      ],
      "metadata": {
        "id": "tZ0O4kfa6GlD"
      },
      "execution_count": null,
      "outputs": []
    },
    {
      "cell_type": "markdown",
      "source": [
        "Mai jos afișăm niște date generale despre setul de date"
      ],
      "metadata": {
        "id": "w9j_I-kvgvlG"
      }
    },
    {
      "cell_type": "code",
      "source": [
        "# Shape-ul\n",
        "print(\"\\nShape:\", df.shape)\n",
        "\n",
        "# Coloanele\n",
        "print(\"\\nColoane: \\n\", df.columns)\n",
        "\n",
        "# Valorile numerice\n",
        "print(\"\\nValori numerice:\\n\", df.describe())\n",
        "\n",
        "# Valori unice (daca avem duplicate)\n",
        "print(\"\\nValori unice:\\n\", df.nunique())\n",
        "\n",
        "# Tipuri de date din df\n",
        "print(\"\\nTipuri de date:\\n\", df.dtypes)"
      ],
      "metadata": {
        "colab": {
          "base_uri": "https://localhost:8080/"
        },
        "id": "o0HckA-7eJ6p",
        "outputId": "98895d8c-4358-4b98-d347-89308c1f49c2"
      },
      "execution_count": null,
      "outputs": [
        {
          "output_type": "stream",
          "name": "stdout",
          "text": [
            "\n",
            "Shape: (268850, 49)\n",
            "\n",
            "Coloane> \n",
            " Index(['regio1', 'serviceCharge', 'heatingType', 'telekomTvOffer',\n",
            "       'telekomHybridUploadSpeed', 'newlyConst', 'balcony', 'picturecount',\n",
            "       'pricetrend', 'telekomUploadSpeed', 'totalRent', 'yearConstructed',\n",
            "       'scoutId', 'noParkSpaces', 'firingTypes', 'hasKitchen', 'geo_bln',\n",
            "       'cellar', 'yearConstructedRange', 'baseRent', 'houseNumber',\n",
            "       'livingSpace', 'geo_krs', 'condition', 'interiorQual', 'petsAllowed',\n",
            "       'street', 'streetPlain', 'lift', 'baseRentRange', 'typeOfFlat',\n",
            "       'geo_plz', 'noRooms', 'thermalChar', 'floor', 'numberOfFloors',\n",
            "       'noRoomsRange', 'garden', 'livingSpaceRange', 'regio2', 'regio3',\n",
            "       'description', 'facilities', 'heatingCosts', 'energyEfficiencyClass',\n",
            "       'lastRefurbish', 'electricityBasePrice', 'electricityKwhPrice', 'date'],\n",
            "      dtype='object')\n",
            "\n",
            "Valori numerice:\n",
            "        serviceCharge  telekomHybridUploadSpeed   picturecount     pricetrend  \\\n",
            "count  261941.000000                   45020.0  268850.000000  267018.000000   \n",
            "mean      151.206113                      10.0       9.791958       3.389001   \n",
            "std       308.295790                       0.0       6.408399       1.964874   \n",
            "min         0.000000                      10.0       0.000000     -12.330000   \n",
            "25%        95.000000                      10.0       6.000000       2.000000   \n",
            "50%       135.000000                      10.0       9.000000       3.390000   \n",
            "75%       190.000000                      10.0      13.000000       4.570000   \n",
            "max    146118.000000                      10.0     121.000000      14.920000   \n",
            "\n",
            "       telekomUploadSpeed     totalRent  yearConstructed       scoutId  \\\n",
            "count       235492.000000  2.283330e+05    211805.000000  2.688500e+05   \n",
            "mean            28.804928  9.013315e+02      1966.400590  1.069697e+08   \n",
            "std             16.337151  3.323833e+04        46.992207  1.250093e+07   \n",
            "min              1.000000  0.000000e+00      1000.000000  2.887174e+07   \n",
            "25%             10.000000  4.698000e+02      1950.000000  1.066910e+08   \n",
            "50%             40.000000  6.500000e+02      1973.000000  1.111584e+08   \n",
            "75%             40.000000  9.850000e+02      1996.000000  1.137688e+08   \n",
            "max            100.000000  1.575154e+07      2090.000000  1.157117e+08   \n",
            "\n",
            "       noParkSpaces  yearConstructedRange  ...        noRooms    thermalChar  \\\n",
            "count  93052.000000         211805.000000  ...  268850.000000  162344.000000   \n",
            "mean       1.327634              3.714544  ...       2.641261     114.749533   \n",
            "std        8.361403              2.738134  ...       2.633440      61.653663   \n",
            "min        0.000000              1.000000  ...       1.000000       0.100000   \n",
            "25%        1.000000              1.000000  ...       2.000000      79.000000   \n",
            "50%        1.000000              3.000000  ...       3.000000     107.000000   \n",
            "75%        1.000000              5.000000  ...       3.000000     140.300000   \n",
            "max     2241.000000              9.000000  ...     999.990000    1996.000000   \n",
            "\n",
            "               floor  numberOfFloors   noRoomsRange  livingSpaceRange  \\\n",
            "count  217541.000000   171118.000000  268850.000000     268850.000000   \n",
            "mean        2.122405        3.572319       2.571542          3.070790   \n",
            "std         3.634934        6.375496       0.937594          1.407127   \n",
            "min        -1.000000        0.000000       1.000000          1.000000   \n",
            "25%         1.000000        2.000000       2.000000          2.000000   \n",
            "50%         2.000000        3.000000       3.000000          3.000000   \n",
            "75%         3.000000        4.000000       3.000000          4.000000   \n",
            "max       999.000000      999.000000       5.000000          7.000000   \n",
            "\n",
            "       heatingCosts  lastRefurbish  electricityBasePrice  electricityKwhPrice  \n",
            "count  85518.000000   80711.000000          46846.000000         46846.000000  \n",
            "mean      76.990866    2013.904536             89.113612             0.199769  \n",
            "std      147.716278      10.963125              5.395805             0.009667  \n",
            "min        0.000000    1015.000000             71.430000             0.170500  \n",
            "25%       54.000000    2012.000000             90.760000             0.191500  \n",
            "50%       70.000000    2017.000000             90.760000             0.198500  \n",
            "75%       90.000000    2019.000000             90.760000             0.205500  \n",
            "max    12613.000000    2919.000000             90.760000             0.227600  \n",
            "\n",
            "[8 rows x 24 columns]\n",
            "\n",
            "Valori unice:\n",
            " regio1                          16\n",
            "serviceCharge                12266\n",
            "heatingType                     13\n",
            "telekomTvOffer                   3\n",
            "telekomHybridUploadSpeed         1\n",
            "newlyConst                       2\n",
            "balcony                          2\n",
            "picturecount                    95\n",
            "pricetrend                    1234\n",
            "telekomUploadSpeed               7\n",
            "totalRent                    28486\n",
            "yearConstructed                465\n",
            "scoutId                     268850\n",
            "noParkSpaces                    71\n",
            "firingTypes                    132\n",
            "hasKitchen                       2\n",
            "geo_bln                         16\n",
            "cellar                           2\n",
            "yearConstructedRange             9\n",
            "baseRent                     26659\n",
            "houseNumber                   5510\n",
            "livingSpace                  13005\n",
            "geo_krs                        419\n",
            "condition                       10\n",
            "interiorQual                     4\n",
            "petsAllowed                      3\n",
            "street                       52373\n",
            "streetPlain                  54490\n",
            "lift                             2\n",
            "baseRentRange                    9\n",
            "typeOfFlat                      10\n",
            "geo_plz                       7634\n",
            "noRooms                         64\n",
            "thermalChar                   7847\n",
            "floor                           53\n",
            "numberOfFloors                  57\n",
            "noRoomsRange                     5\n",
            "garden                           2\n",
            "livingSpaceRange                 7\n",
            "regio2                         419\n",
            "regio3                        8684\n",
            "description                 212621\n",
            "facilities                  189526\n",
            "heatingCosts                  5669\n",
            "energyEfficiencyClass           10\n",
            "lastRefurbish                   88\n",
            "electricityBasePrice             2\n",
            "electricityKwhPrice             15\n",
            "date                             4\n",
            "dtype: int64\n",
            "\n",
            "Tipuri de date:\n",
            " regio1                       object\n",
            "serviceCharge               float64\n",
            "heatingType                  object\n",
            "telekomTvOffer               object\n",
            "telekomHybridUploadSpeed    float64\n",
            "newlyConst                     bool\n",
            "balcony                        bool\n",
            "picturecount                  int64\n",
            "pricetrend                  float64\n",
            "telekomUploadSpeed          float64\n",
            "totalRent                   float64\n",
            "yearConstructed             float64\n",
            "scoutId                       int64\n",
            "noParkSpaces                float64\n",
            "firingTypes                  object\n",
            "hasKitchen                     bool\n",
            "geo_bln                      object\n",
            "cellar                         bool\n",
            "yearConstructedRange        float64\n",
            "baseRent                    float64\n",
            "houseNumber                  object\n",
            "livingSpace                 float64\n",
            "geo_krs                      object\n",
            "condition                    object\n",
            "interiorQual                 object\n",
            "petsAllowed                  object\n",
            "street                       object\n",
            "streetPlain                  object\n",
            "lift                           bool\n",
            "baseRentRange                 int64\n",
            "typeOfFlat                   object\n",
            "geo_plz                       int64\n",
            "noRooms                     float64\n",
            "thermalChar                 float64\n",
            "floor                       float64\n",
            "numberOfFloors              float64\n",
            "noRoomsRange                  int64\n",
            "garden                         bool\n",
            "livingSpaceRange              int64\n",
            "regio2                       object\n",
            "regio3                       object\n",
            "description                  object\n",
            "facilities                   object\n",
            "heatingCosts                float64\n",
            "energyEfficiencyClass        object\n",
            "lastRefurbish               float64\n",
            "electricityBasePrice        float64\n",
            "electricityKwhPrice         float64\n",
            "date                         object\n",
            "dtype: object\n"
          ]
        }
      ]
    },
    {
      "cell_type": "markdown",
      "source": [
        "Valorile duplicate au creat mici probleme în procesul de crearea a modelului, din anumite motive Scalingul Datelor adăuga valori NaN în array-ul X_train"
      ],
      "metadata": {
        "id": "PPACmBRQhcNs"
      }
    },
    {
      "cell_type": "code",
      "source": [
        "print(\"Duplicate: \", df.duplicated().sum())"
      ],
      "metadata": {
        "colab": {
          "base_uri": "https://localhost:8080/"
        },
        "id": "1fQvrwzE7AZF",
        "outputId": "04d86393-c50f-4ff7-c53c-aaf57da35041"
      },
      "execution_count": null,
      "outputs": [
        {
          "output_type": "stream",
          "name": "stdout",
          "text": [
            "Duplicate:  0\n"
          ]
        }
      ]
    },
    {
      "cell_type": "markdown",
      "source": [
        "Mai jos utilizăm LabelEncoder pentru a transforma toate datele categorical în numere."
      ],
      "metadata": {
        "id": "_5ZDj2F0iWe3"
      }
    },
    {
      "cell_type": "code",
      "source": [
        "le = LabelEncoder()\n",
        "\n",
        "for col in df.columns:\n",
        "    if df[col].dtype == 'object':\n",
        "        if df[col].isnull().sum() > 0:\n",
        "            df[col] = df[col].fillna('Absent')\n",
        "        df[col] = le.fit_transform(df[col])\n",
        "\n",
        "# Verificam schimbarile\n",
        "print(df.info())"
      ],
      "metadata": {
        "colab": {
          "base_uri": "https://localhost:8080/"
        },
        "id": "7rvYBl6A_iJ-",
        "outputId": "a02eae5e-faa2-4905-ebd7-ecbbad8b1df0"
      },
      "execution_count": null,
      "outputs": [
        {
          "output_type": "stream",
          "name": "stdout",
          "text": [
            "<class 'pandas.core.frame.DataFrame'>\n",
            "RangeIndex: 268850 entries, 0 to 268849\n",
            "Data columns (total 49 columns):\n",
            " #   Column                    Non-Null Count   Dtype  \n",
            "---  ------                    --------------   -----  \n",
            " 0   regio1                    268850 non-null  int64  \n",
            " 1   serviceCharge             261941 non-null  float64\n",
            " 2   heatingType               268850 non-null  int64  \n",
            " 3   telekomTvOffer            268850 non-null  int64  \n",
            " 4   telekomHybridUploadSpeed  45020 non-null   float64\n",
            " 5   newlyConst                268850 non-null  bool   \n",
            " 6   balcony                   268850 non-null  bool   \n",
            " 7   picturecount              268850 non-null  int64  \n",
            " 8   pricetrend                267018 non-null  float64\n",
            " 9   telekomUploadSpeed        235492 non-null  float64\n",
            " 10  totalRent                 228333 non-null  float64\n",
            " 11  yearConstructed           211805 non-null  float64\n",
            " 12  scoutId                   268850 non-null  int64  \n",
            " 13  noParkSpaces              93052 non-null   float64\n",
            " 14  firingTypes               268850 non-null  int64  \n",
            " 15  hasKitchen                268850 non-null  bool   \n",
            " 16  geo_bln                   268850 non-null  int64  \n",
            " 17  cellar                    268850 non-null  bool   \n",
            " 18  yearConstructedRange      211805 non-null  float64\n",
            " 19  baseRent                  268850 non-null  float64\n",
            " 20  houseNumber               268850 non-null  int64  \n",
            " 21  livingSpace               268850 non-null  float64\n",
            " 22  geo_krs                   268850 non-null  int64  \n",
            " 23  condition                 268850 non-null  int64  \n",
            " 24  interiorQual              268850 non-null  int64  \n",
            " 25  petsAllowed               268850 non-null  int64  \n",
            " 26  street                    268850 non-null  int64  \n",
            " 27  streetPlain               268850 non-null  int64  \n",
            " 28  lift                      268850 non-null  bool   \n",
            " 29  baseRentRange             268850 non-null  int64  \n",
            " 30  typeOfFlat                268850 non-null  int64  \n",
            " 31  geo_plz                   268850 non-null  int64  \n",
            " 32  noRooms                   268850 non-null  float64\n",
            " 33  thermalChar               162344 non-null  float64\n",
            " 34  floor                     217541 non-null  float64\n",
            " 35  numberOfFloors            171118 non-null  float64\n",
            " 36  noRoomsRange              268850 non-null  int64  \n",
            " 37  garden                    268850 non-null  bool   \n",
            " 38  livingSpaceRange          268850 non-null  int64  \n",
            " 39  regio2                    268850 non-null  int64  \n",
            " 40  regio3                    268850 non-null  int64  \n",
            " 41  description               268850 non-null  int64  \n",
            " 42  facilities                268850 non-null  int64  \n",
            " 43  heatingCosts              85518 non-null   float64\n",
            " 44  energyEfficiencyClass     268850 non-null  int64  \n",
            " 45  lastRefurbish             80711 non-null   float64\n",
            " 46  electricityBasePrice      46846 non-null   float64\n",
            " 47  electricityKwhPrice       46846 non-null   float64\n",
            " 48  date                      268850 non-null  int64  \n",
            "dtypes: bool(6), float64(18), int64(25)\n",
            "memory usage: 89.7 MB\n",
            "None\n"
          ]
        }
      ]
    },
    {
      "cell_type": "markdown",
      "source": [
        "Urmează să ne ocupăm de outliers. Mai jos vedem, cu ajutorul unui box plot, că avem anumite valori foarte extreme."
      ],
      "metadata": {
        "id": "utK11T6niqrX"
      }
    },
    {
      "cell_type": "code",
      "source": [
        "plt.figure(figsize=(8,6))\n",
        "sns.boxplot(df['baseRent'])\n",
        "plt.title('Box Plot pentru a verifica outliers')\n",
        "plt.show()"
      ],
      "metadata": {
        "colab": {
          "base_uri": "https://localhost:8080/",
          "height": 545
        },
        "id": "wNqtHnAKETRK",
        "outputId": "01d826ff-65ee-4155-981d-067981cdcd88"
      },
      "execution_count": null,
      "outputs": [
        {
          "output_type": "display_data",
          "data": {
            "text/plain": [
              "<Figure size 800x600 with 1 Axes>"
            ],
            "image/png": "[encoded data removed]"
          },
          "metadata": {}
        }
      ]
    },
    {
      "cell_type": "markdown",
      "source": [
        "Așa că vom scăpa de ele tăind capetele cu câte 4%"
      ],
      "metadata": {
        "id": "62i4l30ejmvj"
      }
    },
    {
      "cell_type": "code",
      "source": [
        "q_low = df[\"baseRent\"].quantile(0.04)\n",
        "q_hi  = df[\"baseRent\"].quantile(0.96)\n",
        "\n",
        "df = df[(df[\"baseRent\"] < q_hi) & (df[\"baseRent\"] > q_low)]"
      ],
      "metadata": {
        "id": "Y3RUSs2LA9s0"
      },
      "execution_count": null,
      "outputs": []
    },
    {
      "cell_type": "markdown",
      "source": [
        "Și obținem un box plot mult mai vizibil."
      ],
      "metadata": {
        "id": "e-a16JS6jyTV"
      }
    },
    {
      "cell_type": "code",
      "source": [
        "plt.figure(figsize=(8,6))\n",
        "sns.boxplot(df['baseRent'])\n",
        "plt.title('Box Plot of Base Rent')\n",
        "plt.show()"
      ],
      "metadata": {
        "colab": {
          "base_uri": "https://localhost:8080/",
          "height": 545
        },
        "id": "n8IDiBCVAGj-",
        "outputId": "265a7b87-08c2-4d5e-b341-3afa31888a14"
      },
      "execution_count": null,
      "outputs": [
        {
          "output_type": "display_data",
          "data": {
            "text/plain": [
              "<Figure size 800x600 with 1 Axes>"
            ],
            "image/png": "[encoded data removed]"
          },
          "metadata": {}
        }
      ]
    },
    {
      "cell_type": "markdown",
      "source": [
        "Ne ocupăm de valorile NaN rămase."
      ],
      "metadata": {
        "id": "GO3cOKcrkFHX"
      }
    },
    {
      "cell_type": "code",
      "source": [
        "for col in df:\n",
        "    df[col].fillna(df[col].mean(), inplace=True)"
      ],
      "metadata": {
        "id": "ZRKL11ZrKmYh"
      },
      "execution_count": null,
      "outputs": []
    },
    {
      "cell_type": "markdown",
      "source": [
        "Împărțim datele în date pentru training și date pentru testing."
      ],
      "metadata": {
        "id": "PVrBlHBHkOrF"
      }
    },
    {
      "cell_type": "code",
      "source": [
        "X = df.drop('baseRent', axis=1)\n",
        "y = df['baseRent']\n",
        "\n",
        "X_train, X_test, y_train, y_test = train_test_split(X, y, test_size=0.2, random_state=42)"
      ],
      "metadata": {
        "id": "qUvTqjC_I8Jw"
      },
      "execution_count": null,
      "outputs": []
    },
    {
      "cell_type": "code",
      "source": [
        "df.describe()"
      ],
      "metadata": {
        "colab": {
          "base_uri": "https://localhost:8080/",
          "height": 393
        },
        "id": "om1KKl2vTzwE",
        "outputId": "7d2bb793-ee54-4f27-d508-bbefdbe679c2"
      },
      "execution_count": null,
      "outputs": [
        {
          "output_type": "execute_result",
          "data": {
            "text/plain": [
              "              regio1  serviceCharge    heatingType  telekomTvOffer  \\\n",
              "count  246457.000000  246457.000000  246457.000000   246457.000000   \n",
              "mean        8.324389     147.053214       2.646766        1.754497   \n",
              "std         4.245187     307.592122       3.056613        0.672368   \n",
              "min         0.000000       0.000000       0.000000        0.000000   \n",
              "25%         6.000000     100.000000       1.000000        2.000000   \n",
              "50%         9.000000     140.000000       1.000000        2.000000   \n",
              "75%        12.000000     180.000000       5.000000        2.000000   \n",
              "max        15.000000  146118.000000      13.000000        3.000000   \n",
              "\n",
              "       telekomHybridUploadSpeed   picturecount     pricetrend  \\\n",
              "count                  246457.0  246457.000000  246457.000000   \n",
              "mean                       10.0       9.673834       3.378514   \n",
              "std                         0.0       6.222568       1.897376   \n",
              "min                        10.0       0.000000     -12.330000   \n",
              "25%                        10.0       6.000000       2.040000   \n",
              "50%                        10.0       9.000000       3.378514   \n",
              "75%                        10.0      13.000000       4.520000   \n",
              "max                        10.0     121.000000      14.920000   \n",
              "\n",
              "       telekomUploadSpeed     totalRent  yearConstructed  ...         regio2  \\\n",
              "count       246457.000000  2.464570e+05    246457.000000  ...  246457.000000   \n",
              "mean            28.879185  8.449617e+02      1966.165123  ...     182.503508   \n",
              "std             15.270242  3.182987e+04        41.528951  ...     114.751546   \n",
              "min              1.000000  0.000000e+00      1000.000000  ...       0.000000   \n",
              "25%             10.000000  5.042300e+02      1958.000000  ...      81.000000   \n",
              "50%             40.000000  7.360000e+02      1966.165123  ...     178.000000   \n",
              "75%             40.000000  8.840000e+02      1991.000000  ...     263.000000   \n",
              "max            100.000000  1.575154e+07      2090.000000  ...     418.000000   \n",
              "\n",
              "              regio3    description     facilities   heatingCosts  \\\n",
              "count  246457.000000  246457.000000  246457.000000  246457.000000   \n",
              "mean     4373.682456   99610.514475   85426.463067      77.075133   \n",
              "std      2505.911836   63855.633214   52872.076857      86.099596   \n",
              "min         0.000000       0.000000       1.000000       0.000000   \n",
              "25%      2278.000000   41162.000000   45947.000000      77.075133   \n",
              "50%      4487.000000   96332.000000   71622.000000      77.075133   \n",
              "75%      6568.000000  156021.000000  131403.000000      77.075133   \n",
              "max      8683.000000  212621.000000  189526.000000   12613.000000   \n",
              "\n",
              "       energyEfficiencyClass  lastRefurbish  electricityBasePrice  \\\n",
              "count          246457.000000  246457.000000         246457.000000   \n",
              "mean                2.947484    2013.956105             89.065232   \n",
              "std                 2.141995       5.862363              2.280200   \n",
              "min                 0.000000    1015.000000             71.430000   \n",
              "25%                 2.000000    2013.956105             89.065232   \n",
              "50%                 2.000000    2013.956105             89.065232   \n",
              "75%                 3.000000    2013.956105             89.065232   \n",
              "max                10.000000    2919.000000             90.760000   \n",
              "\n",
              "       electricityKwhPrice           date  \n",
              "count        246457.000000  246457.000000  \n",
              "mean              0.199705       1.302722  \n",
              "std               0.004074       1.071150  \n",
              "min               0.170500       0.000000  \n",
              "25%               0.199705       0.000000  \n",
              "50%               0.199705       1.000000  \n",
              "75%               0.199705       2.000000  \n",
              "max               0.227600       3.000000  \n",
              "\n",
              "[8 rows x 43 columns]"
            ],
            "text/html": [
              "\n",
              "\n",
              "  <div id=\"df-b61e9aaa-145c-4505-bf85-86140c5eaadc\">\n",
              "    <div class=\"colab-df-container\">\n",
              "      <div>\n",
              "<style scoped>\n",
              "    .dataframe tbody tr th:only-of-type {\n",
              "        vertical-align: middle;\n",
              "    }\n",
              "\n",
              "    .dataframe tbody tr th {\n",
              "        vertical-align: top;\n",
              "    }\n",
              "\n",
              "    .dataframe thead th {\n",
              "        text-align: right;\n",
              "    }\n",
              "</style>\n",
              "<table border=\"1\" class=\"dataframe\">\n",
              "  <thead>\n",
              "    <tr style=\"text-align: right;\">\n",
              "      <th></th>\n",
              "      <th>regio1</th>\n",
              "      <th>serviceCharge</th>\n",
              "      <th>heatingType</th>\n",
              "      <th>telekomTvOffer</th>\n",
              "      <th>telekomHybridUploadSpeed</th>\n",
              "      <th>picturecount</th>\n",
              "      <th>pricetrend</th>\n",
              "      <th>telekomUploadSpeed</th>\n",
              "      <th>totalRent</th>\n",
              "      <th>yearConstructed</th>\n",
              "      <th>...</th>\n",
              "      <th>regio2</th>\n",
              "      <th>regio3</th>\n",
              "      <th>description</th>\n",
              "      <th>facilities</th>\n",
              "      <th>heatingCosts</th>\n",
              "      <th>energyEfficiencyClass</th>\n",
              "      <th>lastRefurbish</th>\n",
              "      <th>electricityBasePrice</th>\n",
              "      <th>electricityKwhPrice</th>\n",
              "      <th>date</th>\n",
              "    </tr>\n",
              "  </thead>\n",
              "  <tbody>\n",
              "    <tr>\n",
              "      <th>count</th>\n",
              "      <td>246457.000000</td>\n",
              "      <td>246457.000000</td>\n",
              "      <td>246457.000000</td>\n",
              "      <td>246457.000000</td>\n",
              "      <td>246457.0</td>\n",
              "      <td>246457.000000</td>\n",
              "      <td>246457.000000</td>\n",
              "      <td>246457.000000</td>\n",
              "      <td>2.464570e+05</td>\n",
              "      <td>246457.000000</td>\n",
              "      <td>...</td>\n",
              "      <td>246457.000000</td>\n",
              "      <td>246457.000000</td>\n",
              "      <td>246457.000000</td>\n",
              "      <td>246457.000000</td>\n",
              "      <td>246457.000000</td>\n",
              "      <td>246457.000000</td>\n",
              "      <td>246457.000000</td>\n",
              "      <td>246457.000000</td>\n",
              "      <td>246457.000000</td>\n",
              "      <td>246457.000000</td>\n",
              "    </tr>\n",
              "    <tr>\n",
              "      <th>mean</th>\n",
              "      <td>8.324389</td>\n",
              "      <td>147.053214</td>\n",
              "      <td>2.646766</td>\n",
              "      <td>1.754497</td>\n",
              "      <td>10.0</td>\n",
              "      <td>9.673834</td>\n",
              "      <td>3.378514</td>\n",
              "      <td>28.879185</td>\n",
              "      <td>8.449617e+02</td>\n",
              "      <td>1966.165123</td>\n",
              "      <td>...</td>\n",
              "      <td>182.503508</td>\n",
              "      <td>4373.682456</td>\n",
              "      <td>99610.514475</td>\n",
              "      <td>85426.463067</td>\n",
              "      <td>77.075133</td>\n",
              "      <td>2.947484</td>\n",
              "      <td>2013.956105</td>\n",
              "      <td>89.065232</td>\n",
              "      <td>0.199705</td>\n",
              "      <td>1.302722</td>\n",
              "    </tr>\n",
              "    <tr>\n",
              "      <th>std</th>\n",
              "      <td>4.245187</td>\n",
              "      <td>307.592122</td>\n",
              "      <td>3.056613</td>\n",
              "      <td>0.672368</td>\n",
              "      <td>0.0</td>\n",
              "      <td>6.222568</td>\n",
              "      <td>1.897376</td>\n",
              "      <td>15.270242</td>\n",
              "      <td>3.182987e+04</td>\n",
              "      <td>41.528951</td>\n",
              "      <td>...</td>\n",
              "      <td>114.751546</td>\n",
              "      <td>2505.911836</td>\n",
              "      <td>63855.633214</td>\n",
              "      <td>52872.076857</td>\n",
              "      <td>86.099596</td>\n",
              "      <td>2.141995</td>\n",
              "      <td>5.862363</td>\n",
              "      <td>2.280200</td>\n",
              "      <td>0.004074</td>\n",
              "      <td>1.071150</td>\n",
              "    </tr>\n",
              "    <tr>\n",
              "      <th>min</th>\n",
              "      <td>0.000000</td>\n",
              "      <td>0.000000</td>\n",
              "      <td>0.000000</td>\n",
              "      <td>0.000000</td>\n",
              "      <td>10.0</td>\n",
              "      <td>0.000000</td>\n",
              "      <td>-12.330000</td>\n",
              "      <td>1.000000</td>\n",
              "      <td>0.000000e+00</td>\n",
              "      <td>1000.000000</td>\n",
              "      <td>...</td>\n",
              "      <td>0.000000</td>\n",
              "      <td>0.000000</td>\n",
              "      <td>0.000000</td>\n",
              "      <td>1.000000</td>\n",
              "      <td>0.000000</td>\n",
              "      <td>0.000000</td>\n",
              "      <td>1015.000000</td>\n",
              "      <td>71.430000</td>\n",
              "      <td>0.170500</td>\n",
              "      <td>0.000000</td>\n",
              "    </tr>\n",
              "    <tr>\n",
              "      <th>25%</th>\n",
              "      <td>6.000000</td>\n",
              "      <td>100.000000</td>\n",
              "      <td>1.000000</td>\n",
              "      <td>2.000000</td>\n",
              "      <td>10.0</td>\n",
              "      <td>6.000000</td>\n",
              "      <td>2.040000</td>\n",
              "      <td>10.000000</td>\n",
              "      <td>5.042300e+02</td>\n",
              "      <td>1958.000000</td>\n",
              "      <td>...</td>\n",
              "      <td>81.000000</td>\n",
              "      <td>2278.000000</td>\n",
              "      <td>41162.000000</td>\n",
              "      <td>45947.000000</td>\n",
              "      <td>77.075133</td>\n",
              "      <td>2.000000</td>\n",
              "      <td>2013.956105</td>\n",
              "      <td>89.065232</td>\n",
              "      <td>0.199705</td>\n",
              "      <td>0.000000</td>\n",
              "    </tr>\n",
              "    <tr>\n",
              "      <th>50%</th>\n",
              "      <td>9.000000</td>\n",
              "      <td>140.000000</td>\n",
              "      <td>1.000000</td>\n",
              "      <td>2.000000</td>\n",
              "      <td>10.0</td>\n",
              "      <td>9.000000</td>\n",
              "      <td>3.378514</td>\n",
              "      <td>40.000000</td>\n",
              "      <td>7.360000e+02</td>\n",
              "      <td>1966.165123</td>\n",
              "      <td>...</td>\n",
              "      <td>178.000000</td>\n",
              "      <td>4487.000000</td>\n",
              "      <td>96332.000000</td>\n",
              "      <td>71622.000000</td>\n",
              "      <td>77.075133</td>\n",
              "      <td>2.000000</td>\n",
              "      <td>2013.956105</td>\n",
              "      <td>89.065232</td>\n",
              "      <td>0.199705</td>\n",
              "      <td>1.000000</td>\n",
              "    </tr>\n",
              "    <tr>\n",
              "      <th>75%</th>\n",
              "      <td>12.000000</td>\n",
              "      <td>180.000000</td>\n",
              "      <td>5.000000</td>\n",
              "      <td>2.000000</td>\n",
              "      <td>10.0</td>\n",
              "      <td>13.000000</td>\n",
              "      <td>4.520000</td>\n",
              "      <td>40.000000</td>\n",
              "      <td>8.840000e+02</td>\n",
              "      <td>1991.000000</td>\n",
              "      <td>...</td>\n",
              "      <td>263.000000</td>\n",
              "      <td>6568.000000</td>\n",
              "      <td>156021.000000</td>\n",
              "      <td>131403.000000</td>\n",
              "      <td>77.075133</td>\n",
              "      <td>3.000000</td>\n",
              "      <td>2013.956105</td>\n",
              "      <td>89.065232</td>\n",
              "      <td>0.199705</td>\n",
              "      <td>2.000000</td>\n",
              "    </tr>\n",
              "    <tr>\n",
              "      <th>max</th>\n",
              "      <td>15.000000</td>\n",
              "      <td>146118.000000</td>\n",
              "      <td>13.000000</td>\n",
              "      <td>3.000000</td>\n",
              "      <td>10.0</td>\n",
              "      <td>121.000000</td>\n",
              "      <td>14.920000</td>\n",
              "      <td>100.000000</td>\n",
              "      <td>1.575154e+07</td>\n",
              "      <td>2090.000000</td>\n",
              "      <td>...</td>\n",
              "      <td>418.000000</td>\n",
              "      <td>8683.000000</td>\n",
              "      <td>212621.000000</td>\n",
              "      <td>189526.000000</td>\n",
              "      <td>12613.000000</td>\n",
              "      <td>10.000000</td>\n",
              "      <td>2919.000000</td>\n",
              "      <td>90.760000</td>\n",
              "      <td>0.227600</td>\n",
              "      <td>3.000000</td>\n",
              "    </tr>\n",
              "  </tbody>\n",
              "</table>\n",
              "<p>8 rows × 43 columns</p>\n",
              "</div>\n",
              "      <button class=\"colab-df-convert\" onclick=\"convertToInteractive('df-b61e9aaa-145c-4505-bf85-86140c5eaadc')\"\n",
              "              title=\"Convert this dataframe to an interactive table.\"\n",
              "              style=\"display:none;\">\n",
              "\n",
              "  <svg xmlns=\"http://www.w3.org/2000/svg\" height=\"24px\"viewBox=\"0 0 24 24\"\n",
              "       width=\"24px\">\n",
              "    <path d=\"M0 0h24v24H0V0z\" fill=\"none\"/>\n",
              "    <path d=\"M18.56 5.44l.94 2.06.94-2.06 2.06-.94-2.06-.94-.94-2.06-.94 2.06-2.06.94zm-11 1L8.5 8.5l.94-2.06 2.06-.94-2.06-.94L8.5 2.5l-.94 2.06-2.06.94zm10 10l.94 2.06.94-2.06 2.06-.94-2.06-.94-.94-2.06-.94 2.06-2.06.94z\"/><path d=\"M17.41 7.96l-1.37-1.37c-.4-.4-.92-.59-1.43-.59-.52 0-1.04.2-1.43.59L10.3 9.45l-7.72 7.72c-.78.78-.78 2.05 0 2.83L4 21.41c.39.39.9.59 1.41.59.51 0 1.02-.2 1.41-.59l7.78-7.78 2.81-2.81c.8-.78.8-2.07 0-2.86zM5.41 20L4 18.59l7.72-7.72 1.47 1.35L5.41 20z\"/>\n",
              "  </svg>\n",
              "      </button>\n",
              "\n",
              "\n",
              "\n",
              "    <div id=\"df-3e7a27d8-1597-40ab-9264-021bae0674c3\">\n",
              "      <button class=\"colab-df-quickchart\" onclick=\"quickchart('df-3e7a27d8-1597-40ab-9264-021bae0674c3')\"\n",
              "              title=\"Suggest charts.\"\n",
              "              style=\"display:none;\">\n",
              "\n",
              "<svg xmlns=\"http://www.w3.org/2000/svg\" height=\"24px\"viewBox=\"0 0 24 24\"\n",
              "     width=\"24px\">\n",
              "    <g>\n",
              "        <path d=\"M19 3H5c-1.1 0-2 .9-2 2v14c0 1.1.9 2 2 2h14c1.1 0 2-.9 2-2V5c0-1.1-.9-2-2-2zM9 17H7v-7h2v7zm4 0h-2V7h2v10zm4 0h-2v-4h2v4z\"/>\n",
              "    </g>\n",
              "</svg>\n",
              "      </button>\n",
              "    </div>\n",
              "\n",
              "<style>\n",
              "  .colab-df-quickchart {\n",
              "    background-color: #E8F0FE;\n",
              "    border: none;\n",
              "    border-radius: 50%;\n",
              "    cursor: pointer;\n",
              "    display: none;\n",
              "    fill: #1967D2;\n",
              "    height: 32px;\n",
              "    padding: 0 0 0 0;\n",
              "    width: 32px;\n",
              "  }\n",
              "\n",
              "  .colab-df-quickchart:hover {\n",
              "    background-color: #E2EBFA;\n",
              "    box-shadow: 0px 1px 2px rgba(60, 64, 67, 0.3), 0px 1px 3px 1px rgba(60, 64, 67, 0.15);\n",
              "    fill: #174EA6;\n",
              "  }\n",
              "\n",
              "  [theme=dark] .colab-df-quickchart {\n",
              "    background-color: #3B4455;\n",
              "    fill: #D2E3FC;\n",
              "  }\n",
              "\n",
              "  [theme=dark] .colab-df-quickchart:hover {\n",
              "    background-color: #434B5C;\n",
              "    box-shadow: 0px 1px 3px 1px rgba(0, 0, 0, 0.15);\n",
              "    filter: drop-shadow(0px 1px 2px rgba(0, 0, 0, 0.3));\n",
              "    fill: #FFFFFF;\n",
              "  }\n",
              "</style>\n",
              "\n",
              "    <script>\n",
              "      async function quickchart(key) {\n",
              "        const containerElement = document.querySelector('#' + key);\n",
              "        const charts = await google.colab.kernel.invokeFunction(\n",
              "            'suggestCharts', [key], {});\n",
              "      }\n",
              "    </script>\n",
              "\n",
              "      <script>\n",
              "\n",
              "function displayQuickchartButton(domScope) {\n",
              "  let quickchartButtonEl =\n",
              "    domScope.querySelector('#df-3e7a27d8-1597-40ab-9264-021bae0674c3 button.colab-df-quickchart');\n",
              "  quickchartButtonEl.style.display =\n",
              "    google.colab.kernel.accessAllowed ? 'block' : 'none';\n",
              "}\n",
              "\n",
              "        displayQuickchartButton(document);\n",
              "      </script>\n",
              "      <style>\n",
              "    .colab-df-container {\n",
              "      display:flex;\n",
              "      flex-wrap:wrap;\n",
              "      gap: 12px;\n",
              "    }\n",
              "\n",
              "    .colab-df-convert {\n",
              "      background-color: #E8F0FE;\n",
              "      border: none;\n",
              "      border-radius: 50%;\n",
              "      cursor: pointer;\n",
              "      display: none;\n",
              "      fill: #1967D2;\n",
              "      height: 32px;\n",
              "      padding: 0 0 0 0;\n",
              "      width: 32px;\n",
              "    }\n",
              "\n",
              "    .colab-df-convert:hover {\n",
              "      background-color: #E2EBFA;\n",
              "      box-shadow: 0px 1px 2px rgba(60, 64, 67, 0.3), 0px 1px 3px 1px rgba(60, 64, 67, 0.15);\n",
              "      fill: #174EA6;\n",
              "    }\n",
              "\n",
              "    [theme=dark] .colab-df-convert {\n",
              "      background-color: #3B4455;\n",
              "      fill: #D2E3FC;\n",
              "    }\n",
              "\n",
              "    [theme=dark] .colab-df-convert:hover {\n",
              "      background-color: #434B5C;\n",
              "      box-shadow: 0px 1px 3px 1px rgba(0, 0, 0, 0.15);\n",
              "      filter: drop-shadow(0px 1px 2px rgba(0, 0, 0, 0.3));\n",
              "      fill: #FFFFFF;\n",
              "    }\n",
              "  </style>\n",
              "\n",
              "      <script>\n",
              "        const buttonEl =\n",
              "          document.querySelector('#df-b61e9aaa-145c-4505-bf85-86140c5eaadc button.colab-df-convert');\n",
              "        buttonEl.style.display =\n",
              "          google.colab.kernel.accessAllowed ? 'block' : 'none';\n",
              "\n",
              "        async function convertToInteractive(key) {\n",
              "          const element = document.querySelector('#df-b61e9aaa-145c-4505-bf85-86140c5eaadc');\n",
              "          const dataTable =\n",
              "            await google.colab.kernel.invokeFunction('convertToInteractive',\n",
              "                                                     [key], {});\n",
              "          if (!dataTable) return;\n",
              "\n",
              "          const docLinkHtml = 'Like what you see? Visit the ' +\n",
              "            '<a target=\"_blank\" href=https://colab.research.google.com/notebooks/data_table.ipynb>data table notebook</a>'\n",
              "            + ' to learn more about interactive tables.';\n",
              "          element.innerHTML = '';\n",
              "          dataTable['output_type'] = 'display_data';\n",
              "          await google.colab.output.renderOutput(dataTable, element);\n",
              "          const docLink = document.createElement('div');\n",
              "          docLink.innerHTML = docLinkHtml;\n",
              "          element.appendChild(docLink);\n",
              "        }\n",
              "      </script>\n",
              "    </div>\n",
              "  </div>\n"
            ]
          },
          "metadata": {},
          "execution_count": 31
        }
      ]
    },
    {
      "cell_type": "code",
      "source": [
        "df = df.fillna(method='ffill')"
      ],
      "metadata": {
        "id": "wnn9zG2IVD68"
      },
      "execution_count": null,
      "outputs": []
    },
    {
      "cell_type": "markdown",
      "source": [
        "Încercând mai multe variante pentru hyperparametri, am ajuns la concluzia ca si doar 5 trees cu max_depth de 100 sunt de ajuns pentru a atinge un scor r2 mai mare de 0.99. Pentru setarile default, codul dat ar fi avut nevoie de minim 25-30 de minute pentru a se antrena. Acum, dureaza doar cateva secunde."
      ],
      "metadata": {
        "id": "oF0HMSHZmTmE"
      }
    },
    {
      "cell_type": "code",
      "source": [
        "model = RandomForestRegressor(n_estimators=5, max_depth=100)\n",
        "\n",
        "model.fit(X_train, y_train)\n",
        "y_pred = model.predict(X_test)\n",
        "\n",
        "# Evaluăm modelul\n",
        "mse = mean_squared_error(y_test, y_pred)\n",
        "mae = mean_absolute_error(y_test, y_pred)\n",
        "r2 = r2_score(y_test, y_pred)\n",
        "\n",
        "print(f\"MSE: {mse}\")\n",
        "print(f\"MAE: {mae}\")\n",
        "print(f\"Scor R^2: {r2}\")\n"
      ],
      "metadata": {
        "colab": {
          "base_uri": "https://localhost:8080/"
        },
        "id": "g5lyuRZMJZsO",
        "outputId": "bda14756-8ddd-45e6-bbb8-4ea16136d866"
      },
      "execution_count": null,
      "outputs": [
        {
          "output_type": "stream",
          "name": "stdout",
          "text": [
            "MSE: 805.1652039173091\n",
            "MAE: 13.128529619410859\n",
            "Scor R^2: 0.9920051661708257\n"
          ]
        }
      ]
    }
  ]
}